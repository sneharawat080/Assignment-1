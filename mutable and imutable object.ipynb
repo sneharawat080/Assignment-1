{
 "cells": [
  {
   "cell_type": "code",
   "execution_count": 1,
   "id": "6513bb9e-3fa1-4023-86ac-386a49a24e88",
   "metadata": {},
   "outputs": [],
   "source": [
    "s = \"sudh\""
   ]
  },
  {
   "cell_type": "code",
   "execution_count": 2,
   "id": "6c06db4d-d82f-426e-883c-96f275143567",
   "metadata": {},
   "outputs": [],
   "source": [
    "s1 = 'sudhanshu'"
   ]
  },
  {
   "cell_type": "code",
   "execution_count": 3,
   "id": "4f52831e-ef9a-4b42-867f-689c253e1484",
   "metadata": {},
   "outputs": [
    {
     "data": {
      "text/plain": [
       "str"
      ]
     },
     "execution_count": 3,
     "metadata": {},
     "output_type": "execute_result"
    }
   ],
   "source": [
    "type(s)"
   ]
  },
  {
   "cell_type": "code",
   "execution_count": 4,
   "id": "0c34ddea-3568-4d16-b75f-59321a1db45b",
   "metadata": {},
   "outputs": [
    {
     "data": {
      "text/plain": [
       "str"
      ]
     },
     "execution_count": 4,
     "metadata": {},
     "output_type": "execute_result"
    }
   ],
   "source": [
    "type(s1)"
   ]
  },
  {
   "cell_type": "code",
   "execution_count": 5,
   "id": "186eff95-f76f-4f8d-b289-d9a87465a6b1",
   "metadata": {},
   "outputs": [],
   "source": [
    "l = [2,3,4,5,6,\"sudh\" , 3+7j , True , 34.56]"
   ]
  },
  {
   "cell_type": "code",
   "execution_count": 6,
   "id": "ae4c98fc-eca5-4cb7-9e19-c005a1be802a",
   "metadata": {},
   "outputs": [
    {
     "data": {
      "text/plain": [
       "list"
      ]
     },
     "execution_count": 6,
     "metadata": {},
     "output_type": "execute_result"
    }
   ],
   "source": [
    "type(l)"
   ]
  },
  {
   "cell_type": "code",
   "execution_count": 7,
   "id": "9dbff1dc-9eea-4c54-afe8-d225dbd040f3",
   "metadata": {},
   "outputs": [
    {
     "data": {
      "text/plain": [
       "'sudh'"
      ]
     },
     "execution_count": 7,
     "metadata": {},
     "output_type": "execute_result"
    }
   ],
   "source": [
    "s"
   ]
  },
  {
   "cell_type": "code",
   "execution_count": 8,
   "id": "d1c09c99-7efd-4170-880e-8a215701754a",
   "metadata": {},
   "outputs": [
    {
     "data": {
      "text/plain": [
       "'s'"
      ]
     },
     "execution_count": 8,
     "metadata": {},
     "output_type": "execute_result"
    }
   ],
   "source": [
    "s[0]"
   ]
  },
  {
   "cell_type": "code",
   "execution_count": 9,
   "id": "ab295c4f-b37e-45ff-9678-1f9113ee042b",
   "metadata": {},
   "outputs": [
    {
     "data": {
      "text/plain": [
       "'d'"
      ]
     },
     "execution_count": 9,
     "metadata": {},
     "output_type": "execute_result"
    }
   ],
   "source": [
    "s[2]"
   ]
  },
  {
   "cell_type": "code",
   "execution_count": 10,
   "id": "53a7d027-6386-4bd2-86fb-d86bfb516286",
   "metadata": {},
   "outputs": [
    {
     "data": {
      "text/plain": [
       "[2, 3, 4, 5, 6, 'sudh', (3+7j), True, 34.56]"
      ]
     },
     "execution_count": 10,
     "metadata": {},
     "output_type": "execute_result"
    }
   ],
   "source": [
    "l"
   ]
  },
  {
   "cell_type": "code",
   "execution_count": null,
   "id": "36eca5e5-f1d0-4fa8-a019-ea1565484618",
   "metadata": {},
   "outputs": [],
   "source": []
  },
  {
   "cell_type": "code",
   "execution_count": 11,
   "id": "5262681b-d582-44cf-81aa-499b4d5f0c21",
   "metadata": {},
   "outputs": [
    {
     "data": {
      "text/plain": [
       "34.56"
      ]
     },
     "execution_count": 11,
     "metadata": {},
     "output_type": "execute_result"
    }
   ],
   "source": [
    "l[8]"
   ]
  },
  {
   "cell_type": "code",
   "execution_count": 12,
   "id": "507b3372-297e-4661-9e65-395f0c06ab73",
   "metadata": {},
   "outputs": [
    {
     "data": {
      "text/plain": [
       "'sudh'"
      ]
     },
     "execution_count": 12,
     "metadata": {},
     "output_type": "execute_result"
    }
   ],
   "source": [
    "l[-4]"
   ]
  },
  {
   "cell_type": "code",
   "execution_count": 13,
   "id": "62d7cb9c-72d2-41a7-872b-449bbf0bf361",
   "metadata": {},
   "outputs": [
    {
     "data": {
      "text/plain": [
       "[2, 3, 4, 5, 6, 'sudh', (3+7j), True, 34.56]"
      ]
     },
     "execution_count": 13,
     "metadata": {},
     "output_type": "execute_result"
    }
   ],
   "source": [
    "l"
   ]
  },
  {
   "cell_type": "code",
   "execution_count": 15,
   "id": "8ff6d23a-a5e7-4772-b116-a535a2a6d399",
   "metadata": {},
   "outputs": [],
   "source": [
    "l[1] = 300"
   ]
  },
  {
   "cell_type": "code",
   "execution_count": 16,
   "id": "4f8052df-ff8b-4049-9735-a5eb2213df12",
   "metadata": {},
   "outputs": [
    {
     "data": {
      "text/plain": [
       "[2, 300, 4, 5, 6, 'sudh', (3+7j), True, 34.56]"
      ]
     },
     "execution_count": 16,
     "metadata": {},
     "output_type": "execute_result"
    }
   ],
   "source": [
    "l"
   ]
  },
  {
   "cell_type": "code",
   "execution_count": 18,
   "id": "a9286c58-98e6-4e7d-baad-a3ac7834b26e",
   "metadata": {},
   "outputs": [],
   "source": [
    "l[4] = \"pwskills\""
   ]
  },
  {
   "cell_type": "code",
   "execution_count": 19,
   "id": "bdc59e31-eb9c-4864-afda-e557d7575c38",
   "metadata": {},
   "outputs": [
    {
     "data": {
      "text/plain": [
       "[2, 300, 4, 5, 'pwskills', 'sudh', (3+7j), True, 34.56]"
      ]
     },
     "execution_count": 19,
     "metadata": {},
     "output_type": "execute_result"
    }
   ],
   "source": [
    "l"
   ]
  },
  {
   "cell_type": "code",
   "execution_count": 20,
   "id": "5e7357d7-75a0-44d9-a662-f7fcb8d60bfb",
   "metadata": {},
   "outputs": [
    {
     "data": {
      "text/plain": [
       "'sudh'"
      ]
     },
     "execution_count": 20,
     "metadata": {},
     "output_type": "execute_result"
    }
   ],
   "source": [
    "s"
   ]
  },
  {
   "cell_type": "code",
   "execution_count": 22,
   "id": "d2632c21-3854-4f8a-9e5a-49d5b8c6f9a0",
   "metadata": {},
   "outputs": [
    {
     "ename": "TypeError",
     "evalue": "'str' object does not support item assignment",
     "output_type": "error",
     "traceback": [
      "\u001b[0;31m---------------------------------------------------------------------------\u001b[0m",
      "\u001b[0;31mTypeError\u001b[0m                                 Traceback (most recent call last)",
      "Cell \u001b[0;32mIn[22], line 1\u001b[0m\n\u001b[0;32m----> 1\u001b[0m \u001b[43ms\u001b[49m\u001b[43m[\u001b[49m\u001b[38;5;241;43m1\u001b[39;49m\u001b[43m]\u001b[49m \u001b[38;5;241m=\u001b[39m \u001b[38;5;124m'\u001b[39m\u001b[38;5;124ma\u001b[39m\u001b[38;5;124m'\u001b[39m\n",
      "\u001b[0;31mTypeError\u001b[0m: 'str' object does not support item assignment"
     ]
    }
   ],
   "source": [
    "s[1] = 'a'"
   ]
  },
  {
   "cell_type": "code",
   "execution_count": 23,
   "id": "bb1e3f4a-d045-4be8-952f-a148b63db482",
   "metadata": {},
   "outputs": [],
   "source": [
    "s = 'sadh'"
   ]
  },
  {
   "cell_type": "code",
   "execution_count": 24,
   "id": "9796f622-0272-4ab1-9a79-cba11d71d551",
   "metadata": {},
   "outputs": [
    {
     "data": {
      "text/plain": [
       "'sadh'"
      ]
     },
     "execution_count": 24,
     "metadata": {},
     "output_type": "execute_result"
    }
   ],
   "source": [
    "s"
   ]
  },
  {
   "cell_type": "code",
   "execution_count": null,
   "id": "3a334f9b-3828-4be1-affb-639598157104",
   "metadata": {},
   "outputs": [],
   "source": []
  }
 ],
 "metadata": {
  "kernelspec": {
   "display_name": "Python 3 (ipykernel)",
   "language": "python",
   "name": "python3"
  },
  "language_info": {
   "codemirror_mode": {
    "name": "ipython",
    "version": 3
   },
   "file_extension": ".py",
   "mimetype": "text/x-python",
   "name": "python",
   "nbconvert_exporter": "python",
   "pygments_lexer": "ipython3",
   "version": "3.10.8"
  }
 },
 "nbformat": 4,
 "nbformat_minor": 5
}
